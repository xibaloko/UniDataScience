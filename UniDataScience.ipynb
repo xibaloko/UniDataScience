{
 "cells": [
  {
   "cell_type": "markdown",
   "id": "925e530d",
   "metadata": {},
   "source": [
    "# Projeto Uninove - Data Science"
   ]
  },
  {
   "cell_type": "code",
   "execution_count": 1,
   "id": "a0a29dd2",
   "metadata": {},
   "outputs": [
    {
     "name": "stdout",
     "output_type": "stream",
     "text": [
      "Ulisses\n"
     ]
    }
   ],
   "source": [
    "print(\"Ulisses\")"
   ]
  },
  {
   "cell_type": "code",
   "execution_count": null,
   "id": "228248e7",
   "metadata": {},
   "outputs": [],
   "source": []
  }
 ],
 "metadata": {
  "kernelspec": {
   "display_name": "Python 3",
   "language": "python",
   "name": "python3"
  },
  "language_info": {
   "codemirror_mode": {
    "name": "ipython",
    "version": 3
   },
   "file_extension": ".py",
   "mimetype": "text/x-python",
   "name": "python",
   "nbconvert_exporter": "python",
   "pygments_lexer": "ipython3",
   "version": "3.8.8"
  }
 },
 "nbformat": 4,
 "nbformat_minor": 5
}
